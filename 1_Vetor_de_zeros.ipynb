{
  "nbformat": 4,
  "nbformat_minor": 0,
  "metadata": {
    "colab": {
      "provenance": [],
      "authorship_tag": "ABX9TyN4b28NCBKYfcMhpG5xeLUN",
      "include_colab_link": true
    },
    "kernelspec": {
      "name": "python3",
      "display_name": "Python 3"
    },
    "language_info": {
      "name": "python"
    }
  },
  "cells": [
    {
      "cell_type": "markdown",
      "metadata": {
        "id": "view-in-github",
        "colab_type": "text"
      },
      "source": [
        "<a href=\"https://colab.research.google.com/github/RafaeladaCunha/DearList/blob/main/1_Vetor_de_zeros.ipynb\" target=\"_parent\"><img src=\"https://colab.research.google.com/assets/colab-badge.svg\" alt=\"Open In Colab\"/></a>"
      ]
    },
    {
      "cell_type": "code",
      "execution_count": null,
      "metadata": {
        "colab": {
          "base_uri": "https://localhost:8080/"
        },
        "id": "l1WDGY6BBSWJ",
        "outputId": "3344f573-f42c-4ebb-fe46-8ee00fea902b"
      },
      "outputs": [
        {
          "output_type": "stream",
          "name": "stdout",
          "text": [
            "[0. 0. 0. 0. 0. 0. 0. 0. 0. 0.]\n",
            "(10,)\n",
            "float64\n"
          ]
        }
      ],
      "source": [
        "import numpy as np\n",
        "array = np.zeros(10)\n",
        "print(array)\n",
        "\n",
        "print(array.shape)\n",
        "print(array.dtype)\n"
      ]
    },
    {
      "cell_type": "code",
      "source": [
        "Atividade2\n",
        "\n",
        "import numpy as np\n",
        "array = np.ones(10)\n",
        "print(array)\n",
        "\n"
      ],
      "metadata": {
        "id": "DcF3-nAMLNVe"
      },
      "execution_count": null,
      "outputs": []
    },
    {
      "cell_type": "code",
      "source": [
        "#Atividade3\n",
        "\n",
        "\n",
        "array = np.arange(0,10)\n",
        "print(array)"
      ],
      "metadata": {
        "id": "66rQ5V1bQvBA"
      },
      "execution_count": null,
      "outputs": []
    },
    {
      "cell_type": "code",
      "source": [
        "#Atividade4\n",
        "matriz = np.arange(9).reshape(3, 3)\n",
        "print(matriz)"
      ],
      "metadata": {
        "id": "Sy02DC6DQzkB"
      },
      "execution_count": null,
      "outputs": []
    },
    {
      "cell_type": "code",
      "source": [
        "#Atividade 5\n",
        "\n",
        "v = np.array([1, 2, 0, 0, 4, 0])\n",
        "\n",
        "indices = np.nonzero(v)\n",
        "print(indices)\n"
      ],
      "metadata": {
        "id": "fdjL1EKxQ5mi"
      },
      "execution_count": null,
      "outputs": []
    },
    {
      "cell_type": "code",
      "source": [
        "#Atividade 6\n",
        "\n",
        "\n",
        "vetor = np.linspace(0, 1, 12)\n",
        "print(\"Vetor linspace:\\n\", vetor)"
      ],
      "metadata": {
        "id": "xgeUCYR-RC5M"
      },
      "execution_count": null,
      "outputs": []
    },
    {
      "cell_type": "code",
      "source": [
        "#Atividade 7\n",
        "\n",
        "identidade = np.eye(5)\n",
        "print(\"\\nMatriz identidade 5x5:\\n\", identidade)"
      ],
      "metadata": {
        "id": "9AT2eL_2RJqc"
      },
      "execution_count": null,
      "outputs": []
    },
    {
      "cell_type": "code",
      "source": [
        "#Atividade 8\n",
        "rng = np.random.default_rng(42)\n",
        "aleatorio = rng.uniform(0, 1, (3, 3, 3))\n",
        "print(\"\\nArray aleatório 3x3x3:\\n\", aleatorio)"
      ],
      "metadata": {
        "id": "wsWC6eNSRP-7"
      },
      "execution_count": null,
      "outputs": []
    },
    {
      "cell_type": "code",
      "source": [
        "#Atividade 9\n",
        "rng = np.random.default_rng(42)\n",
        "matriz = rng.uniform(0, 1, (10, 10))\n",
        "\n",
        "min_val = matriz.min()\n",
        "max_val = matriz.max()\n",
        "\n",
        "print(\"Matriz 10x10:\\n\", matriz)\n",
        "print(\"\\nValor mínimo:\", min_val)\n",
        "print(\"Valor máximo:\", max_val)"
      ],
      "metadata": {
        "id": "W64x037PRXZf"
      },
      "execution_count": null,
      "outputs": []
    },
    {
      "cell_type": "code",
      "source": [
        "#Atividade 10\n",
        "x = np.array([1, 2, 3, 4, 5], dtype=float)\n",
        "\n",
        "x_normalizado = (x - x.mean()) / x.std()\n",
        "\n",
        "print(\"Array original:\", x)\n",
        "print(\"Array padronizado:\", x_normalizado)"
      ],
      "metadata": {
        "id": "Ek20j_N0ReNk"
      },
      "execution_count": null,
      "outputs": []
    },
    {
      "cell_type": "code",
      "source": [
        "#Atividade 11\n",
        "arr = np.array([1, 2, 3], dtype=np.int32)\n",
        "print(\"Original (int32):\", arr, arr.dtype)\n",
        "\n",
        "arr_float = arr.astype(np.float32)\n",
        "print(\"Convertido para float32:\", arr_float, arr_float.dtype)\n",
        "\n",
        "arr_int64 = arr_float.astype(np.int64)\n",
        "print(\"Convertido para int64:\", arr_int64, arr_int64.dtype)\n"
      ],
      "metadata": {
        "id": "-_01wha1RlUD"
      },
      "execution_count": null,
      "outputs": []
    },
    {
      "cell_type": "code",
      "source": [
        "#Atividade 12\n",
        "a = np.array([2, 5, 7, 1, 9])\n",
        "a_clip = np.clip(a, 0, 5)\n",
        "\n",
        "print(\"Original:\", a)\n",
        "print(\"Após clipping [0,5]:\", a_clip)\n"
      ],
      "metadata": {
        "id": "JTO04i2LRtjQ"
      },
      "execution_count": null,
      "outputs": []
    },
    {
      "cell_type": "code",
      "source": [
        "#Atividade 13\n",
        "vetor = np.arange(10)\n",
        "vetor_invertido = np.flip(vetor)\n",
        "\n",
        "print(\"Vetor original:\", vetor)\n",
        "print(\"Vetor invertido:\", vetor_invertido)\n"
      ],
      "metadata": {
        "id": "ode2hjQURzlk"
      },
      "execution_count": null,
      "outputs": []
    },
    {
      "cell_type": "code",
      "source": [
        "#Atividade 14\n",
        "\n",
        "a = np.array([1, 2, 3])\n",
        "b = np.array([4, 5, 6])\n",
        "\n",
        "horizontal = np.hstack((a, b))\n",
        "vertical = np.vstack((a, b))\n",
        "\n",
        "print(\"Horizontal:\\n\", horizontal)\n",
        "print(\"\\nVertical:\\n\", vertical)"
      ],
      "metadata": {
        "id": "e-5GCP2XR3xL"
      },
      "execution_count": null,
      "outputs": []
    },
    {
      "cell_type": "code",
      "source": [
        "#Atividade 15\n",
        "\n",
        "matriz = np.eye(4) * 5\n",
        "print(matriz)\n",
        "\n"
      ],
      "metadata": {
        "id": "Xun5P1vQR9tX"
      },
      "execution_count": null,
      "outputs": []
    },
    {
      "cell_type": "code",
      "source": [
        "#Atividade 16\n",
        "\n",
        "A = np.arange(12).reshape(3, 4)\n",
        "soma_linhas = A.sum(axis=1)\n",
        "soma_colunas = A.sum(axis=0)\n",
        "\n",
        "print(\"Soma por linhas:\", soma_linhas)\n",
        "print(\"Soma por colunas:\", soma_colunas)\n"
      ],
      "metadata": {
        "id": "FteL3ze2SCDi"
      },
      "execution_count": null,
      "outputs": []
    },
    {
      "cell_type": "code",
      "source": [
        "#Atividade 17\n",
        "valores = np.random.randint(0, 10, size=100)\n",
        "frequencias = np.bincount(valores, minlength=10)\n",
        "\n",
        "print(\"Frequências:\", frequencias)"
      ],
      "metadata": {
        "id": "lz_d3PdiVz7r"
      },
      "execution_count": null,
      "outputs": []
    },
    {
      "cell_type": "code",
      "source": [
        "#Atividade 18\n",
        "v = np.arange(20)\n",
        "resultado = v[1::3]\n",
        "print(\"Cada 3º elemento a partir do índice 1:\", resultado)"
      ],
      "metadata": {
        "id": "yWrUXmzgV-kL"
      },
      "execution_count": null,
      "outputs": []
    },
    {
      "cell_type": "code",
      "source": [
        "#Atividade 19\n",
        "lista = [[1, 2, 3], [4, 5, 6]]\n",
        "array = np.array(lista)\n",
        "\n",
        "print(\"Array:\", array)\n",
        "print(\"Shape:\", array.shape)\n",
        "print(\"Dtype:\", array.dtype)\n"
      ],
      "metadata": {
        "id": "TBf05En9WDiB"
      },
      "execution_count": null,
      "outputs": []
    },
    {
      "cell_type": "code",
      "source": [
        "#Atividade 20\n",
        "datas = np.arange('2025-01-01', '2025-01-08', dtype='datetime64[D]')\n",
        "print(\"Datas:\", datas)"
      ],
      "metadata": {
        "id": "r-iePyplWKCU"
      },
      "execution_count": null,
      "outputs": []
    },
    {
      "cell_type": "code",
      "source": [
        "#Atividade 22\n",
        "\n",
        "A = np.array([[1., 2., 3.], [4., 5., 6.]])\n",
        "media_colunas = A.mean(axis=0)\n",
        "centralizado = A - media_colunas\n",
        "\n",
        "print(\"Matriz centralizada por coluna:\\n\", centralizado)"
      ],
      "metadata": {
        "id": "gWkBvxWiWYvL"
      },
      "execution_count": null,
      "outputs": []
    },
    {
      "cell_type": "code",
      "source": [
        "#Aitividade 23\n",
        "a = np.array([1, 2, 3])\n",
        "b = np.array([4, 5, 6])\n",
        "\n",
        "produto_elemento = a * b\n",
        "produto_escalar = np.dot(a, b)\n",
        "\n",
        "print(\"Produto elemento a elemento:\", produto_elemento)\n",
        "print(\"Produto escalar:\", produto_escalar)"
      ],
      "metadata": {
        "id": "8_vfEJWoWhwS"
      },
      "execution_count": null,
      "outputs": []
    },
    {
      "cell_type": "code",
      "source": [
        "#Atividade 24\n",
        "A = np.arange(12).reshape(3, 4)\n",
        "A[:, [0, 2]] = A[:, [2, 0]]\n",
        "\n",
        "print(\"Matriz com colunas 0 e 2 trocadas:\\n\", A)"
      ],
      "metadata": {
        "id": "I8GOKNEIWodf"
      },
      "execution_count": null,
      "outputs": []
    },
    {
      "cell_type": "code",
      "source": [
        "#Atividade 25\n",
        "a = np.array([[1, 2], [3, 4]])\n",
        "\n",
        "flat = a.flatten()\n",
        "ravel_view = a.ravel()\n",
        "\n",
        "ravel_view[0] = 99\n",
        "\n",
        "print(\"Original:\\n\", a)\n",
        "print(\"flatten (cópia):\", flat)\n",
        "print(\"ravel (view):\", ravel_view)\n"
      ],
      "metadata": {
        "id": "fd5bYl29WuRE"
      },
      "execution_count": null,
      "outputs": []
    },
    {
      "cell_type": "code",
      "source": [
        "#Atividade 26\n",
        "tabuleiro = np.zeros((8, 8), dtype=int)\n",
        "tabuleiro[1::2, ::2] = 1\n",
        "tabuleiro[::2, 1::2] = 1\n",
        "print(tabuleiro)"
      ],
      "metadata": {
        "id": "caQmD1ozW21j"
      },
      "execution_count": null,
      "outputs": []
    },
    {
      "cell_type": "code",
      "source": [
        "#Atividade 27\n",
        "x = np.arange(-5, 6)\n",
        "resultado = np.where(x < 0, 0, x)\n",
        "print(resultado)\n"
      ],
      "metadata": {
        "id": "wYQwlp15W_g8"
      },
      "execution_count": null,
      "outputs": []
    },
    {
      "cell_type": "code",
      "source": [
        "#Atividade 28\n",
        "media = dados.mean()\n",
        "erro_absoluto = abs(media - 0.5)\n",
        "\n",
        "print(\"Média:\", media)\n",
        "print(\"Erro absoluto:\", erro_absoluto)"
      ],
      "metadata": {
        "id": "rYZXiXBnXKb0"
      },
      "execution_count": null,
      "outputs": []
    },
    {
      "cell_type": "code",
      "source": [
        "#Atividade 29\n",
        "a = np.array([1, 2, 3])[:, None]\n",
        "b = np.array([10, 20, 30, 40])\n",
        "somas = a + b\n",
        "print(somas)\n"
      ],
      "metadata": {
        "id": "T_ay8T3dXSoV"
      },
      "execution_count": null,
      "outputs": []
    },
    {
      "cell_type": "code",
      "source": [
        "#Atividade 30\n",
        "from numpy.lib.stride_tricks import sliding_window_view\n",
        "\n",
        "s = np.array([1, 2, 3, 4, 5])\n",
        "k = np.array([1, 0, -1])\n",
        "\n",
        "k_flip = np.flip(k)\n",
        "janelas = sliding_window_view(s, len(k))\n",
        "resultado = (janelas * k_flip).sum(axis=1)\n",
        "\n",
        "print(\"Resultado da convolução:\", resultado)"
      ],
      "metadata": {
        "id": "ygW3NdG9XxOS"
      },
      "execution_count": null,
      "outputs": []
    },
    {
      "cell_type": "code",
      "source": [
        "#Atividade 31\n",
        "rng = np.random.default_rng()\n",
        "A = rng.normal(size=(5, 4))\n",
        "\n",
        "minimos = A.min(axis=0)\n",
        "maximos = A.max(axis=0)\n",
        "intervalos = maximos - minimos\n",
        "intervalos[intervalos == 0] = 1\n",
        "\n",
        "normalizado = (A - minimos) / intervalos\n",
        "print(\"Matriz normalizada:\\n\", normalizado)\n"
      ],
      "metadata": {
        "id": "DDfQJSAwX8y-"
      },
      "execution_count": null,
      "outputs": []
    },
    {
      "cell_type": "code",
      "source": [
        "#Atividade 32\n",
        "\n",
        "A = np.array([[3, 9], [1, 4], [2, 5]])\n",
        "ordenado = A[A[:, 1].argsort()]\n",
        "print(ordenado)\n"
      ],
      "metadata": {
        "id": "irL6smnDYJHq"
      },
      "execution_count": null,
      "outputs": []
    },
    {
      "cell_type": "code",
      "source": [
        "#Atividade 33\n",
        "x = np.array([3, 1, 2, 3, 2, 3, 1])\n",
        "valores, contagens = np.unique(x, return_counts=True)\n",
        "_, idx_primeira = np.unique(x, return_index=True)\n",
        "\n",
        "print(\"Valores únicos:\", valores)\n",
        "print(\"Contagens:\", contagens)\n",
        "print(\"Índices da 1ª ocorrência:\", idx_primeira)"
      ],
      "metadata": {
        "id": "KgHaq8nvYO8J"
      },
      "execution_count": null,
      "outputs": []
    },
    {
      "cell_type": "code",
      "source": [
        "#Atividade 34\n",
        "P = np.random.rand(5, 2)\n",
        "difs = P[:, None, :] - P[None, :, :]\n",
        "distancias = np.sqrt(np.sum(difs**2, axis=2))\n",
        "\n",
        "print(\"Matriz de distâncias:\\n\", distancias)\n"
      ],
      "metadata": {
        "id": "IU9sHqjNYZ9g"
      },
      "execution_count": null,
      "outputs": []
    },
    {
      "cell_type": "code",
      "source": [
        "#Atividade 35\n",
        "dados = np.random.randn(1000, 3)\n",
        "\n",
        "cov = np.cov(dados, rowvar=False)\n",
        "corr = np.corrcoef(dados, rowvar=False)\n",
        "\n",
        "print(\"Covariância:\\n\", cov)\n",
        "print(\"Correlação:\\n\", corr)\n"
      ],
      "metadata": {
        "id": "OBKpugFwYlhB"
      },
      "execution_count": null,
      "outputs": []
    },
    {
      "cell_type": "code",
      "source": [
        "#Atividade 36\n",
        "\n",
        "y = np.array([2, 0, 1, 2])\n",
        "n_classes = y.max() + 1\n",
        "one_hot = np.eye(n_classes)[y]\n",
        "\n",
        "print(\"One-hot:\\n\", one_hot)"
      ],
      "metadata": {
        "id": "dcjHbkkkYrdH"
      },
      "execution_count": null,
      "outputs": []
    }
  ]
}